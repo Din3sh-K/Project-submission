{
  "nbformat": 4,
  "nbformat_minor": 0,
  "metadata": {
    "colab": {
      "provenance": [],
      "gpuType": "T4"
    },
    "kernelspec": {
      "name": "python3",
      "display_name": "Python 3"
    },
    "language_info": {
      "name": "python"
    },
    "accelerator": "GPU"
  },
  "cells": [
    {
      "cell_type": "code",
      "execution_count": 1,
      "metadata": {
        "colab": {
          "base_uri": "https://localhost:8080/"
        },
        "id": "4t3H5D1wV_cS",
        "outputId": "985e6a50-b4ee-431e-cb5c-d3647605e16c"
      },
      "outputs": [
        {
          "output_type": "stream",
          "name": "stdout",
          "text": [
            "\u001b[2K     \u001b[90m━━━━━━━━━━━━━━━━━━━━━━━━━━━━━━━━━━━━━━━━\u001b[0m \u001b[32m793.7/793.7 kB\u001b[0m \u001b[31m7.4 MB/s\u001b[0m eta \u001b[36m0:00:00\u001b[0m\n",
            "\u001b[2K     \u001b[90m━━━━━━━━━━━━━━━━━━━━━━━━━━━━━━━━━━━━━━━━\u001b[0m \u001b[32m21.3/21.3 MB\u001b[0m \u001b[31m58.0 MB/s\u001b[0m eta \u001b[36m0:00:00\u001b[0m\n",
            "\u001b[2K     \u001b[90m━━━━━━━━━━━━━━━━━━━━━━━━━━━━━━━━━━━━━━━━\u001b[0m \u001b[32m1.6/1.6 MB\u001b[0m \u001b[31m10.0 MB/s\u001b[0m eta \u001b[36m0:00:00\u001b[0m\n",
            "\u001b[?25h"
          ]
        }
      ],
      "source": [
        "!pip install -q ultralytics\n",
        "!pip install -q IPython\n",
        "import ultralytics\n",
        "from IPython import display"
      ]
    },
    {
      "cell_type": "code",
      "source": [
        "from google.colab import drive\n",
        "drive.mount('/content/drive')"
      ],
      "metadata": {
        "colab": {
          "base_uri": "https://localhost:8080/"
        },
        "id": "p7KPcOqIRQ8g",
        "outputId": "c83ae936-5a1a-481d-ab57-68ac2d1278ee"
      },
      "execution_count": 3,
      "outputs": [
        {
          "output_type": "stream",
          "name": "stdout",
          "text": [
            "Mounted at /content/drive\n"
          ]
        }
      ]
    },
    {
      "cell_type": "code",
      "source": [
        "%cd /content/drive/MyDrive/PCB_Data"
      ],
      "metadata": {
        "colab": {
          "base_uri": "https://localhost:8080/"
        },
        "id": "-VWw1CZaYk3F",
        "outputId": "07ec848c-a3be-4b1b-bf26-9db255125202"
      },
      "execution_count": 6,
      "outputs": [
        {
          "output_type": "stream",
          "name": "stdout",
          "text": [
            "/content/drive/MyDrive/PCB_Data\n"
          ]
        }
      ]
    },
    {
      "cell_type": "code",
      "source": [
        "!yolo task=detect mode=train model=yolov8s.pt data=dataset.yaml epochs=10 plots=True"
      ],
      "metadata": {
        "colab": {
          "base_uri": "https://localhost:8080/"
        },
        "id": "4PntnIjjZCS6",
        "outputId": "a368bf5b-8138-439a-d8b5-2abd15333bb0"
      },
      "execution_count": 10,
      "outputs": [
        {
          "output_type": "stream",
          "name": "stdout",
          "text": [
            "Ultralytics YOLOv8.2.48 🚀 Python-3.10.12 torch-2.3.0+cu121 CUDA:0 (Tesla T4, 15102MiB)\n",
            "\u001b[34m\u001b[1mengine/trainer: \u001b[0mtask=detect, mode=train, model=yolov8s.pt, data=dataset.yaml, epochs=10, time=None, patience=100, batch=16, imgsz=640, save=True, save_period=-1, cache=False, device=None, workers=8, project=None, name=train4, exist_ok=False, pretrained=True, optimizer=auto, verbose=True, seed=0, deterministic=True, single_cls=False, rect=False, cos_lr=False, close_mosaic=10, resume=False, amp=True, fraction=1.0, profile=False, freeze=None, multi_scale=False, overlap_mask=True, mask_ratio=4, dropout=0.0, val=True, split=val, save_json=False, save_hybrid=False, conf=None, iou=0.7, max_det=300, half=False, dnn=False, plots=True, source=None, vid_stride=1, stream_buffer=False, visualize=False, augment=False, agnostic_nms=False, classes=None, retina_masks=False, embed=None, show=False, save_frames=False, save_txt=False, save_conf=False, save_crop=False, show_labels=True, show_conf=True, show_boxes=True, line_width=None, format=torchscript, keras=False, optimize=False, int8=False, dynamic=False, simplify=False, opset=None, workspace=4, nms=False, lr0=0.01, lrf=0.01, momentum=0.937, weight_decay=0.0005, warmup_epochs=3.0, warmup_momentum=0.8, warmup_bias_lr=0.1, box=7.5, cls=0.5, dfl=1.5, pose=12.0, kobj=1.0, label_smoothing=0.0, nbs=64, hsv_h=0.015, hsv_s=0.7, hsv_v=0.4, degrees=0.0, translate=0.1, scale=0.5, shear=0.0, perspective=0.0, flipud=0.0, fliplr=0.5, bgr=0.0, mosaic=1.0, mixup=0.0, copy_paste=0.0, auto_augment=randaugment, erasing=0.4, crop_fraction=1.0, cfg=None, tracker=botsort.yaml, save_dir=runs/detect/train4\n",
            "Downloading https://ultralytics.com/assets/Arial.ttf to '/root/.config/Ultralytics/Arial.ttf'...\n",
            "100% 755k/755k [00:00<00:00, 21.3MB/s]\n",
            "Overriding model.yaml nc=80 with nc=6\n",
            "\n",
            "                   from  n    params  module                                       arguments                     \n",
            "  0                  -1  1       928  ultralytics.nn.modules.conv.Conv             [3, 32, 3, 2]                 \n",
            "  1                  -1  1     18560  ultralytics.nn.modules.conv.Conv             [32, 64, 3, 2]                \n",
            "  2                  -1  1     29056  ultralytics.nn.modules.block.C2f             [64, 64, 1, True]             \n",
            "  3                  -1  1     73984  ultralytics.nn.modules.conv.Conv             [64, 128, 3, 2]               \n",
            "  4                  -1  2    197632  ultralytics.nn.modules.block.C2f             [128, 128, 2, True]           \n",
            "  5                  -1  1    295424  ultralytics.nn.modules.conv.Conv             [128, 256, 3, 2]              \n",
            "  6                  -1  2    788480  ultralytics.nn.modules.block.C2f             [256, 256, 2, True]           \n",
            "  7                  -1  1   1180672  ultralytics.nn.modules.conv.Conv             [256, 512, 3, 2]              \n",
            "  8                  -1  1   1838080  ultralytics.nn.modules.block.C2f             [512, 512, 1, True]           \n",
            "  9                  -1  1    656896  ultralytics.nn.modules.block.SPPF            [512, 512, 5]                 \n",
            " 10                  -1  1         0  torch.nn.modules.upsampling.Upsample         [None, 2, 'nearest']          \n",
            " 11             [-1, 6]  1         0  ultralytics.nn.modules.conv.Concat           [1]                           \n",
            " 12                  -1  1    591360  ultralytics.nn.modules.block.C2f             [768, 256, 1]                 \n",
            " 13                  -1  1         0  torch.nn.modules.upsampling.Upsample         [None, 2, 'nearest']          \n",
            " 14             [-1, 4]  1         0  ultralytics.nn.modules.conv.Concat           [1]                           \n",
            " 15                  -1  1    148224  ultralytics.nn.modules.block.C2f             [384, 128, 1]                 \n",
            " 16                  -1  1    147712  ultralytics.nn.modules.conv.Conv             [128, 128, 3, 2]              \n",
            " 17            [-1, 12]  1         0  ultralytics.nn.modules.conv.Concat           [1]                           \n",
            " 18                  -1  1    493056  ultralytics.nn.modules.block.C2f             [384, 256, 1]                 \n",
            " 19                  -1  1    590336  ultralytics.nn.modules.conv.Conv             [256, 256, 3, 2]              \n",
            " 20             [-1, 9]  1         0  ultralytics.nn.modules.conv.Concat           [1]                           \n",
            " 21                  -1  1   1969152  ultralytics.nn.modules.block.C2f             [768, 512, 1]                 \n",
            " 22        [15, 18, 21]  1   2118370  ultralytics.nn.modules.head.Detect           [6, [128, 256, 512]]          \n",
            "Model summary: 225 layers, 11137922 parameters, 11137906 gradients, 28.7 GFLOPs\n",
            "\n",
            "Transferred 349/355 items from pretrained weights\n",
            "\u001b[34m\u001b[1mTensorBoard: \u001b[0mStart with 'tensorboard --logdir runs/detect/train4', view at http://localhost:6006/\n",
            "Freezing layer 'model.22.dfl.conv.weight'\n",
            "\u001b[34m\u001b[1mAMP: \u001b[0mrunning Automatic Mixed Precision (AMP) checks with YOLOv8n...\n",
            "Downloading https://github.com/ultralytics/assets/releases/download/v8.2.0/yolov8n.pt to 'yolov8n.pt'...\n",
            "100% 6.25M/6.25M [00:00<00:00, 98.9MB/s]\n",
            "/usr/local/lib/python3.10/dist-packages/torch/nn/modules/conv.py:456: UserWarning: Plan failed with a cudnnException: CUDNN_BACKEND_EXECUTION_PLAN_DESCRIPTOR: cudnnFinalize Descriptor Failed cudnn_status: CUDNN_STATUS_NOT_SUPPORTED (Triggered internally at ../aten/src/ATen/native/cudnn/Conv_v8.cpp:919.)\n",
            "  return F.conv2d(input, weight, bias, self.stride,\n",
            "\u001b[34m\u001b[1mAMP: \u001b[0mchecks passed ✅\n",
            "\u001b[34m\u001b[1mtrain: \u001b[0mScanning /content/drive/MyDrive/PCB_Data/data/train/labels... 145 images, 0 backgrounds, 0 corrupt: 100% 145/145 [00:57<00:00,  2.54it/s]\n",
            "\u001b[34m\u001b[1mtrain: \u001b[0mNew cache created: /content/drive/MyDrive/PCB_Data/data/train/labels.cache\n",
            "\u001b[34m\u001b[1malbumentations: \u001b[0mBlur(p=0.01, blur_limit=(3, 7)), MedianBlur(p=0.01, blur_limit=(3, 7)), ToGray(p=0.01), CLAHE(p=0.01, clip_limit=(1, 4.0), tile_grid_size=(8, 8))\n",
            "/usr/lib/python3.10/multiprocessing/popen_fork.py:66: RuntimeWarning: os.fork() was called. os.fork() is incompatible with multithreaded code, and JAX is multithreaded, so this will likely lead to a deadlock.\n",
            "  self.pid = os.fork()\n",
            "\u001b[34m\u001b[1mval: \u001b[0mScanning /content/drive/MyDrive/PCB_Data/data/val/labels... 115 images, 0 backgrounds, 0 corrupt: 100% 115/115 [00:44<00:00,  2.56it/s]\n",
            "\u001b[34m\u001b[1mval: \u001b[0mNew cache created: /content/drive/MyDrive/PCB_Data/data/val/labels.cache\n",
            "Plotting labels to runs/detect/train4/labels.jpg... \n",
            "\u001b[34m\u001b[1moptimizer:\u001b[0m 'optimizer=auto' found, ignoring 'lr0=0.01' and 'momentum=0.937' and determining best 'optimizer', 'lr0' and 'momentum' automatically... \n",
            "\u001b[34m\u001b[1moptimizer:\u001b[0m AdamW(lr=0.001, momentum=0.9) with parameter groups 57 weight(decay=0.0), 64 weight(decay=0.0005), 63 bias(decay=0.0)\n",
            "\u001b[34m\u001b[1mTensorBoard: \u001b[0mmodel graph visualization added ✅\n",
            "Image sizes 640 train, 640 val\n",
            "Using 2 dataloader workers\n",
            "Logging results to \u001b[1mruns/detect/train4\u001b[0m\n",
            "Starting training for 10 epochs...\n",
            "Closing dataloader mosaic\n",
            "\u001b[34m\u001b[1malbumentations: \u001b[0mBlur(p=0.01, blur_limit=(3, 7)), MedianBlur(p=0.01, blur_limit=(3, 7)), ToGray(p=0.01), CLAHE(p=0.01, clip_limit=(1, 4.0), tile_grid_size=(8, 8))\n",
            "/usr/lib/python3.10/multiprocessing/popen_fork.py:66: RuntimeWarning: os.fork() was called. os.fork() is incompatible with multithreaded code, and JAX is multithreaded, so this will likely lead to a deadlock.\n",
            "  self.pid = os.fork()\n",
            "\n",
            "      Epoch    GPU_mem   box_loss   cls_loss   dfl_loss  Instances       Size\n",
            "       1/10      4.25G      3.579      46.26      2.149          5        640: 100% 10/10 [00:23<00:00,  2.32s/it]\n",
            "                 Class     Images  Instances      Box(P          R      mAP50  mAP50-95): 100% 4/4 [00:10<00:00,  2.67s/it]\n",
            "                   all        115        487          0          0          0          0\n",
            "\n",
            "      Epoch    GPU_mem   box_loss   cls_loss   dfl_loss  Instances       Size\n",
            "       2/10      4.32G      2.785      11.73      1.554          3        640: 100% 10/10 [00:14<00:00,  1.40s/it]\n",
            "                 Class     Images  Instances      Box(P          R      mAP50  mAP50-95): 100% 4/4 [00:03<00:00,  1.11it/s]\n",
            "                   all        115        487      0.401    0.00612   0.000104   5.97e-05\n",
            "\n",
            "      Epoch    GPU_mem   box_loss   cls_loss   dfl_loss  Instances       Size\n",
            "       3/10      4.21G      2.728      6.647      1.391          5        640: 100% 10/10 [00:10<00:00,  1.02s/it]\n",
            "                 Class     Images  Instances      Box(P          R      mAP50  mAP50-95): 100% 4/4 [00:09<00:00,  2.36s/it]\n",
            "                   all        115        487    0.00278     0.0876    0.00196   0.000823\n",
            "\n",
            "      Epoch    GPU_mem   box_loss   cls_loss   dfl_loss  Instances       Size\n",
            "       4/10       4.2G      2.654        5.4      1.296          3        640: 100% 10/10 [00:07<00:00,  1.32it/s]\n",
            "                 Class     Images  Instances      Box(P          R      mAP50  mAP50-95): 100% 4/4 [00:10<00:00,  2.72s/it]\n",
            "                   all        115        487      0.497     0.0277     0.0505     0.0235\n",
            "\n",
            "      Epoch    GPU_mem   box_loss   cls_loss   dfl_loss  Instances       Size\n",
            "       5/10      4.19G      2.319      3.651      1.212          5        640: 100% 10/10 [00:08<00:00,  1.18it/s]\n",
            "                 Class     Images  Instances      Box(P          R      mAP50  mAP50-95): 100% 4/4 [00:08<00:00,  2.20s/it]\n",
            "                   all        115        487      0.179     0.0973     0.0655      0.027\n",
            "\n",
            "      Epoch    GPU_mem   box_loss   cls_loss   dfl_loss  Instances       Size\n",
            "       6/10       4.2G      2.356      3.525      1.179          2        640: 100% 10/10 [00:09<00:00,  1.00it/s]\n",
            "                 Class     Images  Instances      Box(P          R      mAP50  mAP50-95): 100% 4/4 [00:08<00:00,  2.19s/it]\n",
            "                   all        115        487      0.376      0.108      0.126     0.0565\n",
            "\n",
            "      Epoch    GPU_mem   box_loss   cls_loss   dfl_loss  Instances       Size\n",
            "       7/10      4.18G      2.135      2.856      1.125          2        640: 100% 10/10 [00:08<00:00,  1.16it/s]\n",
            "                 Class     Images  Instances      Box(P          R      mAP50  mAP50-95): 100% 4/4 [00:09<00:00,  2.36s/it]\n",
            "                   all        115        487      0.612       0.14      0.183     0.0811\n",
            "\n",
            "      Epoch    GPU_mem   box_loss   cls_loss   dfl_loss  Instances       Size\n",
            "       8/10      4.23G      2.226      2.292      1.162          5        640: 100% 10/10 [00:07<00:00,  1.38it/s]\n",
            "                 Class     Images  Instances      Box(P          R      mAP50  mAP50-95): 100% 4/4 [00:10<00:00,  2.75s/it]\n",
            "                   all        115        487      0.495      0.184      0.211     0.0915\n",
            "\n",
            "      Epoch    GPU_mem   box_loss   cls_loss   dfl_loss  Instances       Size\n",
            "       9/10      4.22G      1.764      2.313      1.005          2        640: 100% 10/10 [00:08<00:00,  1.22it/s]\n",
            "                 Class     Images  Instances      Box(P          R      mAP50  mAP50-95): 100% 4/4 [00:09<00:00,  2.40s/it]\n",
            "                   all        115        487      0.333      0.284      0.245      0.101\n",
            "\n",
            "      Epoch    GPU_mem   box_loss   cls_loss   dfl_loss  Instances       Size\n",
            "      10/10      4.19G      2.106      2.212      1.128          5        640: 100% 10/10 [00:06<00:00,  1.61it/s]\n",
            "                 Class     Images  Instances      Box(P          R      mAP50  mAP50-95): 100% 4/4 [00:11<00:00,  2.80s/it]\n",
            "                   all        115        487      0.412      0.303      0.275      0.117\n",
            "\n",
            "10 epochs completed in 0.064 hours.\n",
            "Optimizer stripped from runs/detect/train4/weights/last.pt, 22.5MB\n",
            "Optimizer stripped from runs/detect/train4/weights/best.pt, 22.5MB\n",
            "\n",
            "Validating runs/detect/train4/weights/best.pt...\n",
            "Ultralytics YOLOv8.2.48 🚀 Python-3.10.12 torch-2.3.0+cu121 CUDA:0 (Tesla T4, 15102MiB)\n",
            "Model summary (fused): 168 layers, 11127906 parameters, 0 gradients, 28.4 GFLOPs\n",
            "                 Class     Images  Instances      Box(P          R      mAP50  mAP50-95): 100% 4/4 [00:15<00:00,  3.93s/it]\n",
            "                   all        115        487      0.413      0.303      0.275      0.117\n",
            "                    Mh         23         98      0.263      0.857      0.727      0.339\n",
            "                    Mb         23        101      0.393      0.099      0.119     0.0424\n",
            "                    Oc         23         90      0.355      0.135      0.151     0.0636\n",
            "                    Sh         23         99      0.422      0.303      0.245     0.0861\n",
            "                    Sp         23         99      0.631      0.121      0.135     0.0548\n",
            "Speed: 0.2ms preprocess, 5.1ms inference, 0.0ms loss, 4.9ms postprocess per image\n",
            "Results saved to \u001b[1mruns/detect/train4\u001b[0m\n",
            "💡 Learn more at https://docs.ultralytics.com/modes/train\n"
          ]
        }
      ]
    },
    {
      "cell_type": "code",
      "source": [
        "!yolo task=detect mode=val model=/content/drive/MyDrive/PCB_Data/runs/detect/train4/weights/best.pt data=dataset.yaml"
      ],
      "metadata": {
        "colab": {
          "base_uri": "https://localhost:8080/"
        },
        "id": "9c1Uxf-Hc1rg",
        "outputId": "c861d879-0ca0-4f4f-9c77-fb60b2a87e25"
      },
      "execution_count": 12,
      "outputs": [
        {
          "output_type": "stream",
          "name": "stdout",
          "text": [
            "Ultralytics YOLOv8.2.48 🚀 Python-3.10.12 torch-2.3.0+cu121 CUDA:0 (Tesla T4, 15102MiB)\n",
            "Model summary (fused): 168 layers, 11127906 parameters, 0 gradients, 28.4 GFLOPs\n",
            "\u001b[34m\u001b[1mval: \u001b[0mScanning /content/drive/MyDrive/PCB_Data/data/val/labels.cache... 115 images, 0 backgrounds, 0 corrupt: 100% 115/115 [00:00<?, ?it/s]\n",
            "                 Class     Images  Instances      Box(P          R      mAP50  mAP50-95): 100% 8/8 [00:17<00:00,  2.23s/it]\n",
            "                   all        115        487      0.415      0.298      0.276      0.118\n",
            "                    Mh         23         98      0.261      0.847      0.728      0.346\n",
            "                    Mb         23        101      0.443      0.099      0.117     0.0406\n",
            "                    Oc         23         90      0.345      0.122      0.149     0.0645\n",
            "                    Sh         23         99        0.4      0.303       0.25     0.0869\n",
            "                    Sp         23         99      0.628      0.119      0.135     0.0542\n",
            "Speed: 0.8ms preprocess, 21.3ms inference, 0.0ms loss, 15.1ms postprocess per image\n",
            "Results saved to \u001b[1mruns/detect/val\u001b[0m\n",
            "💡 Learn more at https://docs.ultralytics.com/modes/val\n"
          ]
        }
      ]
    },
    {
      "cell_type": "code",
      "source": [
        "!yolo task=detect mode=predict model=/content/drive/MyDrive/PCB_Data/runs/detect/train4/weights/best.pt source=/content/drive/MyDrive/PCB_Data/data/val/images conf=0.30"
      ],
      "metadata": {
        "colab": {
          "base_uri": "https://localhost:8080/"
        },
        "id": "mwNkICfPgi4z",
        "outputId": "5a6073c0-a1c0-4895-d6b8-104e49b675c9"
      },
      "execution_count": 14,
      "outputs": [
        {
          "output_type": "stream",
          "name": "stdout",
          "text": [
            "Ultralytics YOLOv8.2.48 🚀 Python-3.10.12 torch-2.3.0+cu121 CUDA:0 (Tesla T4, 15102MiB)\n",
            "Model summary (fused): 168 layers, 11127906 parameters, 0 gradients, 28.4 GFLOPs\n",
            "\n",
            "image 1/115 /content/drive/MyDrive/PCB_Data/data/val/images/01_missing_hole_03.jpg: 352x640 3 Mhs, 76.4ms\n",
            "image 2/115 /content/drive/MyDrive/PCB_Data/data/val/images/01_missing_hole_05.jpg: 352x640 3 Mhs, 10.7ms\n",
            "image 3/115 /content/drive/MyDrive/PCB_Data/data/val/images/01_missing_hole_06.jpg: 352x640 2 Mhs, 10.7ms\n",
            "image 4/115 /content/drive/MyDrive/PCB_Data/data/val/images/01_missing_hole_07.jpg: 352x640 1 Mh, 10.7ms\n",
            "image 5/115 /content/drive/MyDrive/PCB_Data/data/val/images/01_missing_hole_08.jpg: 352x640 2 Mhs, 10.7ms\n",
            "image 6/115 /content/drive/MyDrive/PCB_Data/data/val/images/01_missing_hole_18.jpg: 352x640 1 Mh, 10.7ms\n",
            "image 7/115 /content/drive/MyDrive/PCB_Data/data/val/images/01_mouse_bite_01.jpg: 352x640 (no detections), 10.7ms\n",
            "image 8/115 /content/drive/MyDrive/PCB_Data/data/val/images/01_mouse_bite_05.jpg: 352x640 (no detections), 10.7ms\n",
            "image 9/115 /content/drive/MyDrive/PCB_Data/data/val/images/01_mouse_bite_06.jpg: 352x640 (no detections), 10.7ms\n",
            "image 10/115 /content/drive/MyDrive/PCB_Data/data/val/images/01_mouse_bite_10.jpg: 352x640 (no detections), 10.7ms\n",
            "image 11/115 /content/drive/MyDrive/PCB_Data/data/val/images/01_open_circuit_09.jpg: 352x640 (no detections), 10.7ms\n",
            "image 12/115 /content/drive/MyDrive/PCB_Data/data/val/images/01_open_circuit_10.jpg: 352x640 (no detections), 10.7ms\n",
            "image 13/115 /content/drive/MyDrive/PCB_Data/data/val/images/01_open_circuit_11.jpg: 352x640 (no detections), 10.7ms\n",
            "image 14/115 /content/drive/MyDrive/PCB_Data/data/val/images/01_open_circuit_13.jpg: 352x640 (no detections), 10.7ms\n",
            "image 15/115 /content/drive/MyDrive/PCB_Data/data/val/images/01_open_circuit_14.jpg: 352x640 (no detections), 10.7ms\n",
            "image 16/115 /content/drive/MyDrive/PCB_Data/data/val/images/01_open_circuit_15.jpg: 352x640 (no detections), 10.7ms\n",
            "image 17/115 /content/drive/MyDrive/PCB_Data/data/val/images/01_short_03.jpg: 352x640 (no detections), 10.7ms\n",
            "image 18/115 /content/drive/MyDrive/PCB_Data/data/val/images/01_short_14.jpg: 352x640 (no detections), 10.7ms\n",
            "image 19/115 /content/drive/MyDrive/PCB_Data/data/val/images/01_short_15.jpg: 352x640 (no detections), 10.7ms\n",
            "image 20/115 /content/drive/MyDrive/PCB_Data/data/val/images/01_short_16.jpg: 352x640 (no detections), 10.7ms\n",
            "image 21/115 /content/drive/MyDrive/PCB_Data/data/val/images/01_short_17.jpg: 352x640 (no detections), 10.6ms\n",
            "image 22/115 /content/drive/MyDrive/PCB_Data/data/val/images/01_spur_05.jpg: 352x640 (no detections), 10.7ms\n",
            "image 23/115 /content/drive/MyDrive/PCB_Data/data/val/images/01_spur_18.jpg: 352x640 (no detections), 10.7ms\n",
            "image 24/115 /content/drive/MyDrive/PCB_Data/data/val/images/01_spur_20.jpg: 352x640 (no detections), 10.7ms\n",
            "image 25/115 /content/drive/MyDrive/PCB_Data/data/val/images/04_missing_hole_01.jpg: 544x640 4 Mhs, 67.1ms\n",
            "image 26/115 /content/drive/MyDrive/PCB_Data/data/val/images/04_missing_hole_03.jpg: 544x640 (no detections), 16.1ms\n",
            "image 27/115 /content/drive/MyDrive/PCB_Data/data/val/images/04_missing_hole_09.jpg: 544x640 1 Mh, 15.9ms\n",
            "image 28/115 /content/drive/MyDrive/PCB_Data/data/val/images/04_missing_hole_11.jpg: 544x640 1 Mh, 15.8ms\n",
            "image 29/115 /content/drive/MyDrive/PCB_Data/data/val/images/04_mouse_bite_02.jpg: 544x640 (no detections), 15.9ms\n",
            "image 30/115 /content/drive/MyDrive/PCB_Data/data/val/images/04_mouse_bite_04.jpg: 544x640 (no detections), 18.8ms\n",
            "image 31/115 /content/drive/MyDrive/PCB_Data/data/val/images/04_mouse_bite_11.jpg: 544x640 (no detections), 15.8ms\n",
            "image 32/115 /content/drive/MyDrive/PCB_Data/data/val/images/04_mouse_bite_13.jpg: 544x640 (no detections), 15.8ms\n",
            "image 33/115 /content/drive/MyDrive/PCB_Data/data/val/images/04_open_circuit_03.jpg: 544x640 (no detections), 15.8ms\n",
            "image 34/115 /content/drive/MyDrive/PCB_Data/data/val/images/04_open_circuit_10.jpg: 544x640 (no detections), 15.8ms\n",
            "image 35/115 /content/drive/MyDrive/PCB_Data/data/val/images/04_open_circuit_18.jpg: 544x640 (no detections), 15.8ms\n",
            "image 36/115 /content/drive/MyDrive/PCB_Data/data/val/images/04_open_circuit_19.jpg: 544x640 (no detections), 15.8ms\n",
            "image 37/115 /content/drive/MyDrive/PCB_Data/data/val/images/04_open_circuit_20.jpg: 544x640 (no detections), 15.8ms\n",
            "image 38/115 /content/drive/MyDrive/PCB_Data/data/val/images/04_short_03.jpg: 544x640 (no detections), 15.8ms\n",
            "image 39/115 /content/drive/MyDrive/PCB_Data/data/val/images/04_short_04.jpg: 544x640 (no detections), 15.9ms\n",
            "image 40/115 /content/drive/MyDrive/PCB_Data/data/val/images/04_short_05.jpg: 544x640 (no detections), 15.8ms\n",
            "image 41/115 /content/drive/MyDrive/PCB_Data/data/val/images/04_short_11.jpg: 544x640 (no detections), 15.8ms\n",
            "image 42/115 /content/drive/MyDrive/PCB_Data/data/val/images/04_spur_03.jpg: 544x640 (no detections), 15.8ms\n",
            "image 43/115 /content/drive/MyDrive/PCB_Data/data/val/images/04_spur_06.jpg: 544x640 (no detections), 15.8ms\n",
            "image 44/115 /content/drive/MyDrive/PCB_Data/data/val/images/04_spur_16.jpg: 544x640 (no detections), 15.8ms\n",
            "image 45/115 /content/drive/MyDrive/PCB_Data/data/val/images/04_spur_17.jpg: 544x640 (no detections), 15.8ms\n",
            "image 46/115 /content/drive/MyDrive/PCB_Data/data/val/images/05_missing_hole_07.jpg: 544x640 7 Mhs, 15.8ms\n",
            "image 47/115 /content/drive/MyDrive/PCB_Data/data/val/images/05_missing_hole_09.jpg: 544x640 4 Mhs, 15.8ms\n",
            "image 48/115 /content/drive/MyDrive/PCB_Data/data/val/images/05_mouse_bite_04.jpg: 544x640 (no detections), 15.8ms\n",
            "image 49/115 /content/drive/MyDrive/PCB_Data/data/val/images/05_mouse_bite_08.jpg: 544x640 (no detections), 15.8ms\n",
            "image 50/115 /content/drive/MyDrive/PCB_Data/data/val/images/05_open_circuit_02.jpg: 544x640 (no detections), 15.8ms\n",
            "image 51/115 /content/drive/MyDrive/PCB_Data/data/val/images/05_short_09.jpg: 544x640 (no detections), 15.8ms\n",
            "image 52/115 /content/drive/MyDrive/PCB_Data/data/val/images/05_spur_03.jpg: 544x640 (no detections), 15.8ms\n",
            "image 53/115 /content/drive/MyDrive/PCB_Data/data/val/images/06_missing_hole_01.jpg: 544x640 4 Mhs, 16.4ms\n",
            "image 54/115 /content/drive/MyDrive/PCB_Data/data/val/images/06_missing_hole_06.jpg: 544x640 3 Mhs, 15.8ms\n",
            "image 55/115 /content/drive/MyDrive/PCB_Data/data/val/images/06_missing_hole_09.jpg: 544x640 5 Mhs, 15.8ms\n",
            "image 56/115 /content/drive/MyDrive/PCB_Data/data/val/images/06_mouse_bite_02.jpg: 544x640 (no detections), 15.8ms\n",
            "image 57/115 /content/drive/MyDrive/PCB_Data/data/val/images/06_mouse_bite_07.jpg: 544x640 (no detections), 15.8ms\n",
            "image 58/115 /content/drive/MyDrive/PCB_Data/data/val/images/06_mouse_bite_08.jpg: 544x640 (no detections), 15.8ms\n",
            "image 59/115 /content/drive/MyDrive/PCB_Data/data/val/images/06_short_07.jpg: 544x640 1 Sh, 15.8ms\n",
            "image 60/115 /content/drive/MyDrive/PCB_Data/data/val/images/06_spur_10.jpg: 544x640 (no detections), 15.8ms\n",
            "image 61/115 /content/drive/MyDrive/PCB_Data/data/val/images/07_missing_hole_05.jpg: 448x640 6 Mhs, 70.0ms\n",
            "image 62/115 /content/drive/MyDrive/PCB_Data/data/val/images/07_missing_hole_09.jpg: 448x640 3 Mhs, 12.8ms\n",
            "image 63/115 /content/drive/MyDrive/PCB_Data/data/val/images/07_mouse_bite_08.jpg: 448x640 (no detections), 12.8ms\n",
            "image 64/115 /content/drive/MyDrive/PCB_Data/data/val/images/07_mouse_bite_09.jpg: 448x640 (no detections), 12.8ms\n",
            "image 65/115 /content/drive/MyDrive/PCB_Data/data/val/images/07_open_circuit_02.jpg: 448x640 (no detections), 12.8ms\n",
            "image 66/115 /content/drive/MyDrive/PCB_Data/data/val/images/07_open_circuit_05.jpg: 448x640 (no detections), 12.8ms\n",
            "image 67/115 /content/drive/MyDrive/PCB_Data/data/val/images/07_short_01.jpg: 448x640 1 Sh, 12.8ms\n",
            "image 68/115 /content/drive/MyDrive/PCB_Data/data/val/images/07_short_05.jpg: 448x640 3 Shs, 22.4ms\n",
            "image 69/115 /content/drive/MyDrive/PCB_Data/data/val/images/07_short_08.jpg: 448x640 1 Sh, 13.1ms\n",
            "image 70/115 /content/drive/MyDrive/PCB_Data/data/val/images/07_spur_02.jpg: 448x640 (no detections), 12.8ms\n",
            "image 71/115 /content/drive/MyDrive/PCB_Data/data/val/images/07_spur_05.jpg: 448x640 (no detections), 12.8ms\n",
            "image 72/115 /content/drive/MyDrive/PCB_Data/data/val/images/07_spur_08.jpg: 448x640 (no detections), 14.8ms\n",
            "image 73/115 /content/drive/MyDrive/PCB_Data/data/val/images/08_mouse_bite_01.jpg: 512x640 6 Mhs, 118.8ms\n",
            "image 74/115 /content/drive/MyDrive/PCB_Data/data/val/images/08_mouse_bite_07.jpg: 512x640 5 Mhs, 13.3ms\n",
            "image 75/115 /content/drive/MyDrive/PCB_Data/data/val/images/08_open_circuit_10.jpg: 512x640 6 Mhs, 15.4ms\n",
            "image 76/115 /content/drive/MyDrive/PCB_Data/data/val/images/08_short_01.jpg: 512x640 6 Mhs, 13.3ms\n",
            "image 77/115 /content/drive/MyDrive/PCB_Data/data/val/images/08_short_06.jpg: 512x640 7 Mhs, 13.2ms\n",
            "image 78/115 /content/drive/MyDrive/PCB_Data/data/val/images/08_spur_03.jpg: 512x640 6 Mhs, 13.2ms\n",
            "image 79/115 /content/drive/MyDrive/PCB_Data/data/val/images/08_spur_05.jpg: 512x640 6 Mhs, 13.2ms\n",
            "image 80/115 /content/drive/MyDrive/PCB_Data/data/val/images/08_spur_06.jpg: 512x640 6 Mhs, 13.2ms\n",
            "image 81/115 /content/drive/MyDrive/PCB_Data/data/val/images/08_spur_08.jpg: 512x640 6 Mhs, 13.3ms\n",
            "image 82/115 /content/drive/MyDrive/PCB_Data/data/val/images/09_missing_hole_04.jpg: 512x640 10 Mhs, 13.3ms\n",
            "image 83/115 /content/drive/MyDrive/PCB_Data/data/val/images/09_mouse_bite_08.jpg: 512x640 5 Mhs, 13.3ms\n",
            "image 84/115 /content/drive/MyDrive/PCB_Data/data/val/images/09_open_circuit_01.jpg: 512x640 5 Mhs, 13.3ms\n",
            "image 85/115 /content/drive/MyDrive/PCB_Data/data/val/images/09_open_circuit_08.jpg: 512x640 5 Mhs, 13.3ms\n",
            "image 86/115 /content/drive/MyDrive/PCB_Data/data/val/images/09_short_05.jpg: 512x640 4 Mhs, 13.2ms\n",
            "image 87/115 /content/drive/MyDrive/PCB_Data/data/val/images/09_short_06.jpg: 512x640 4 Mhs, 13.3ms\n",
            "image 88/115 /content/drive/MyDrive/PCB_Data/data/val/images/09_spur_01.jpg: 512x640 5 Mhs, 13.3ms\n",
            "image 89/115 /content/drive/MyDrive/PCB_Data/data/val/images/09_spur_04.jpg: 512x640 5 Mhs, 13.3ms\n",
            "image 90/115 /content/drive/MyDrive/PCB_Data/data/val/images/09_spur_08.jpg: 512x640 4 Mhs, 13.2ms\n",
            "image 91/115 /content/drive/MyDrive/PCB_Data/data/val/images/10_missing_hole_02.jpg: 576x640 5 Mhs, 69.2ms\n",
            "image 92/115 /content/drive/MyDrive/PCB_Data/data/val/images/10_missing_hole_04.jpg: 576x640 5 Mhs, 16.1ms\n",
            "image 93/115 /content/drive/MyDrive/PCB_Data/data/val/images/10_mouse_bite_02.jpg: 576x640 1 Mb, 1 Sp, 16.1ms\n",
            "image 94/115 /content/drive/MyDrive/PCB_Data/data/val/images/10_mouse_bite_05.jpg: 576x640 2 Mbs, 16.2ms\n",
            "image 95/115 /content/drive/MyDrive/PCB_Data/data/val/images/10_open_circuit_01.jpg: 576x640 3 Ocs, 2 Shs, 16.1ms\n",
            "image 96/115 /content/drive/MyDrive/PCB_Data/data/val/images/10_open_circuit_06.jpg: 576x640 2 Ocs, 2 Shs, 16.2ms\n",
            "image 97/115 /content/drive/MyDrive/PCB_Data/data/val/images/10_short_03.jpg: 576x640 2 Ocs, 1 Sh, 16.2ms\n",
            "image 98/115 /content/drive/MyDrive/PCB_Data/data/val/images/10_short_04.jpg: 576x640 1 Oc, 1 Sh, 16.1ms\n",
            "image 99/115 /content/drive/MyDrive/PCB_Data/data/val/images/11_missing_hole_02.jpg: 640x640 5 Mhs, 17.1ms\n",
            "image 100/115 /content/drive/MyDrive/PCB_Data/data/val/images/11_missing_hole_10.jpg: 640x640 5 Mhs, 16.5ms\n",
            "image 101/115 /content/drive/MyDrive/PCB_Data/data/val/images/11_mouse_bite_01.jpg: 640x640 (no detections), 16.4ms\n",
            "image 102/115 /content/drive/MyDrive/PCB_Data/data/val/images/11_mouse_bite_06.jpg: 640x640 1 Sp, 16.4ms\n",
            "image 103/115 /content/drive/MyDrive/PCB_Data/data/val/images/11_open_circuit_07.jpg: 640x640 1 Oc, 1 Sp, 16.4ms\n",
            "image 104/115 /content/drive/MyDrive/PCB_Data/data/val/images/11_open_circuit_08.jpg: 640x640 2 Ocs, 16.4ms\n",
            "image 105/115 /content/drive/MyDrive/PCB_Data/data/val/images/11_short_02.jpg: 640x640 4 Shs, 16.4ms\n",
            "image 106/115 /content/drive/MyDrive/PCB_Data/data/val/images/11_short_03.jpg: 640x640 1 Mb, 2 Ocs, 2 Shs, 16.5ms\n",
            "image 107/115 /content/drive/MyDrive/PCB_Data/data/val/images/11_spur_06.jpg: 640x640 2 Sps, 16.4ms\n",
            "image 108/115 /content/drive/MyDrive/PCB_Data/data/val/images/11_spur_09.jpg: 640x640 4 Sps, 16.4ms\n",
            "image 109/115 /content/drive/MyDrive/PCB_Data/data/val/images/12_missing_hole_02.jpg: 640x640 5 Mhs, 17.2ms\n",
            "image 110/115 /content/drive/MyDrive/PCB_Data/data/val/images/12_mouse_bite_04.jpg: 640x640 (no detections), 16.4ms\n",
            "image 111/115 /content/drive/MyDrive/PCB_Data/data/val/images/12_open_circuit_08.jpg: 640x640 (no detections), 16.4ms\n",
            "image 112/115 /content/drive/MyDrive/PCB_Data/data/val/images/12_open_circuit_09.jpg: 640x640 (no detections), 18.1ms\n",
            "image 113/115 /content/drive/MyDrive/PCB_Data/data/val/images/12_short_09.jpg: 640x640 (no detections), 16.4ms\n",
            "image 114/115 /content/drive/MyDrive/PCB_Data/data/val/images/12_spur_07.jpg: 640x640 (no detections), 16.6ms\n",
            "image 115/115 /content/drive/MyDrive/PCB_Data/data/val/images/12_spur_10.jpg: 640x640 (no detections), 16.4ms\n",
            "Speed: 3.3ms preprocess, 17.2ms inference, 5.8ms postprocess per image at shape (1, 3, 640, 640)\n",
            "Results saved to \u001b[1mruns/detect/predict\u001b[0m\n",
            "💡 Learn more at https://docs.ultralytics.com/modes/predict\n"
          ]
        }
      ]
    },
    {
      "cell_type": "code",
      "source": [],
      "metadata": {
        "id": "sjiEUbZfhkqT"
      },
      "execution_count": null,
      "outputs": []
    }
  ]
}